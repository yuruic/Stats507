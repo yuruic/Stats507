{
 "cells": [
  {
   "cell_type": "code",
   "execution_count": 2,
   "id": "5e2175e7",
   "metadata": {},
   "outputs": [],
   "source": [
    "import pandas as pd\n",
    "import numpy as np\n",
    "import os\n",
    "import math\n",
    "import matplotlib.pyplot as plt\n",
    "from scipy import stats\n",
    "from itertools import product"
   ]
  },
  {
   "cell_type": "markdown",
   "id": "be2171be",
   "metadata": {},
   "source": [
    "## part a)"
   ]
  },
  {
   "cell_type": "code",
   "execution_count": 3,
   "id": "11f4bca3",
   "metadata": {},
   "outputs": [],
   "source": [
    "index_list1 = ['SEQN','RIDAGEYR', 'RIDRETH3', 'DMDEDUC2', 'DMDMARTL',\n",
    "              'RIDSTATR', 'SDMVPSU', 'SDMVSTRA', 'WTMEC2YR', 'WTINT2YR']\n",
    "\n",
    "# read files and and a column\n",
    "path1 = r\"./demographic\"\n",
    "files1 = os.listdir(path1)\n",
    "dat1 = []\n",
    "for file in files1:\n",
    "    if file.endswith('.XPT'):\n",
    "        a = pd.read_sas(path1+'/'+file)\n",
    "        # select specified columns\n",
    "        a = a[index_list1]\n",
    "        # add the column identifying to which cohort each case belongs\n",
    "        a['YEAR'] = [file[6:10] for i in range(len(a))]\n",
    "        dat1.append(a)\n",
    "        \n",
    "df1 = pd.concat(dat1, ignore_index=True)\n",
    "\n",
    "# rename columns\n",
    "df1 = df1.rename(columns = {'SEQN': 'id','RIDAGEYR':'age', \n",
    "                            'RIDRETH3':'race', 'DMDEDUC2':'education', \n",
    "                            'DMDMARTL':'marital_status', 'SDMVPSU':'psu', \n",
    "                            'SDMVSTRA':'stratum'})\n",
    "df1.columns = df1.columns.str.lower()\n",
    "\n",
    "# object: id\n",
    "# int: age, psu, stratum\n",
    "# category: gender, race, education, marital_status, ridstatr\n",
    "df1['id'] = df1['id'].astype(int).astype(object)\n",
    "\n",
    "l1_1 = ['age', 'psu', 'stratum']\n",
    "df1[l1_1] = df1[l1_1].astype(int)\n",
    "\n",
    "l1_2 = ['race', 'education', 'marital_status', 'ridstatr']\n",
    "df1[l1_2] = df1[l1_2].fillna(-1).astype('Int8')\n",
    "for k in l1_2:\n",
    "    df1[k] = pd.Categorical(df1[k])"
   ]
  },
  {
   "cell_type": "code",
   "execution_count": 4,
   "id": "46db34d4",
   "metadata": {},
   "outputs": [],
   "source": [
    "# columns\n",
    "dat = pd.read_sas('./ohxden/OHXDEN_G2011.XPT')\n",
    "index_list2 = ['SEQN','OHDDESTS']\n",
    "all_index = dat.columns\n",
    "for a in all_index:\n",
    "    if a[:3] == 'OHX' and a[-2:] == 'TC':\n",
    "        index_list2.append(a)\n",
    "\n",
    "path2 = r\"./ohxden\"\n",
    "files2 = os.listdir(path2)\n",
    "dat2 = []\n",
    "for file in files2:\n",
    "    if file.endswith('.XPT'):\n",
    "        a = pd.read_sas(path2+'/'+file)\n",
    "        # select specified columns\n",
    "        index_list2 = ['SEQN','OHDDESTS']\n",
    "        all_index = dat.columns\n",
    "        for idx in all_index:\n",
    "            if idx[:3] == 'OHX' and idx[-2:] == 'TC':\n",
    "                index_list2.append(idx)\n",
    "        a = a[index_list2]\n",
    "        # add the column identifying to which cohort each case belongs\n",
    "        a['YEAR'] = [file[-8:-4] for i in range(len(a))]\n",
    "        dat2.append(a)\n",
    "        \n",
    "df2 = pd.concat(dat2, ignore_index=True)\n",
    "\n",
    "# rename columns\n",
    "df2 = df2.rename(columns = {'SEQN': 'id'})\n",
    "df2.columns = df2.columns.str.lower()\n",
    "\n",
    "# object: id\n",
    "# category: ohddests, ohxXXtc, ohxXXctc\n",
    "columnNames2 = df2.columns\n",
    "\n",
    "## seqn\n",
    "df2['id'] = df2['id'].astype(int).astype(object)\n",
    "\n",
    "## ohxXXctc\n",
    "l2_1 = [x for x in columnNames2 if x[-3:] == 'ctc']\n",
    "for idx in l2_1:\n",
    "    df2[idx] = df2[idx].str.decode('utf8', errors='strict').astype('category')\n",
    "\n",
    "## ohxXXtc & ohddests\n",
    "l2_2 = [x for x in columnNames2 if x[-2:]=='tc' and x[-3]!='c']\n",
    "l2_2.append('ohddests')\n",
    "df2[l2_2] = df2[l2_2].fillna(-1).astype(int)\n",
    "for x in l2_2:\n",
    "    df2[x] = pd.Categorical(df2[x])"
   ]
  },
  {
   "cell_type": "code",
   "execution_count": null,
   "id": "cdee24dc",
   "metadata": {},
   "outputs": [],
   "source": [
    "# save to pickle\n",
    "df1.to_pickle('./demographic.pkl')\n",
    "df2.to_pickle('./ohxden.pkl')"
   ]
  },
  {
   "cell_type": "markdown",
   "id": "d0253e03",
   "metadata": {},
   "source": [
    "## part b)"
   ]
  },
  {
   "cell_type": "code",
   "execution_count": null,
   "id": "c8419cd9",
   "metadata": {},
   "outputs": [],
   "source": [
    "# merge two tables\n",
    "demo = df1.merge(df2[['id', 'year', 'ohddests']], on=['year', 'id'], how='left')\n",
    "demo.rename(columns={'ridstatr': 'exam_status', 'ohddests': 'ohx_status'}, inplace=True)\n",
    "\n",
    "# add a new column 'under_20'\n",
    "demo['under_20'] = 'no'\n",
    "demo.loc[demo['age'] < 20, 'under_20'] = 'yes'\n",
    "\n",
    "# add a new column 'college'\n",
    "conditions = [\n",
    "    (demo['education'] == 4) | (demo['education'] == 5),\n",
    "    (demo['education'] != 4) & (demo['education'] != 5),\n",
    "    (demo['age'] < 20)\n",
    "]\n",
    "values = ['some college/college graduate', 'No college/<20', 'No college/<20']\n",
    "demo['college'] = np.select(conditions, values)\n",
    "\n",
    "# create a new dataframe\n",
    "demo_new = demo[['id', 'gender', 'age', 'under_20', 'college', 'exam_status', \n",
    "                 'ohx_status']]\n",
    "\n",
    "# create a new variable called 'ohx'\n",
    "demo_new['ohx'] = 'missing'\n",
    "demo_new.loc[(demo_new['exam_status'] == 2) & (demo_new['ohx_status'] == 1), 'ohx'] = 'complete'\n",
    "demo_new[['under_20', 'college', 'ohx']] = demo_new[['under_20', 'college', 'ohx']].astype('category')\n",
    "\n",
    "demo_new"
   ]
  },
  {
   "cell_type": "markdown",
   "id": "686512ba",
   "metadata": {},
   "source": [
    "## part c)"
   ]
  },
  {
   "cell_type": "code",
   "execution_count": null,
   "id": "26cd2066",
   "metadata": {},
   "outputs": [],
   "source": [
    "demo_new.drop(demo_new[demo_new['exam_status'] != 2].index, inplace=True)\n",
    "demo_new"
   ]
  },
  {
   "cell_type": "markdown",
   "id": "58ca0ff4",
   "metadata": {},
   "source": [
    "There are 1757 rows removed from the table, and 37399 subjects remaining."
   ]
  },
  {
   "cell_type": "markdown",
   "id": "d05f77dd",
   "metadata": {},
   "source": [
    "## part d)"
   ]
  },
  {
   "cell_type": "code",
   "execution_count": null,
   "id": "c8997d74",
   "metadata": {},
   "outputs": [],
   "source": [
    "def count_summ(varname):\n",
    "    \"\"\"\n",
    "    Count the number of each variable\n",
    "\n",
    "    Parameters\n",
    "    ----------\n",
    "    varname : string\n",
    "        The variable name.\n",
    "        \n",
    "    Returns\n",
    "    -------\n",
    "    The table of the results.\n",
    "\n",
    "    \"\"\"\n",
    "    summ_tbl = (demo_new\n",
    "        .groupby([varname, 'ohx'])\n",
    "        .apply(lambda x: len(x))\n",
    "        )\n",
    "    summ_tbl.index.names = ['category', 'ohx']\n",
    "    summ_tbl = summ_tbl.reset_index().pivot(index='category', columns='ohx')\n",
    "    summ_tbl.columns = ['complete', 'missing']\n",
    "    p = stats.chi2_contingency(np.array(summ_tbl))[1]\n",
    "    summ_tbl['p-value'] = \"\"\n",
    "    summ_tbl.iloc[0, 2] = (\"%.3g\" % p)\n",
    "    string = \"n = {0:d} ({1:4.2f}%)\"\n",
    "    for i in range(2):\n",
    "        t = sum(summ_tbl.iloc[i,0:2])\n",
    "        for j in range(2):\n",
    "            summ_tbl.iloc[i,j] = string.format(int(summ_tbl.iloc[i,j]), \n",
    "                                               100*summ_tbl.iloc[i,j]/t)\n",
    "    return summ_tbl"
   ]
  },
  {
   "cell_type": "code",
   "execution_count": null,
   "id": "777eb782",
   "metadata": {},
   "outputs": [],
   "source": [
    "# count the number of `under_20`, `gender`, and `college`\n",
    "under20_tbl = count_summ('under_20')\n",
    "gender_tbl = count_summ('gender')\n",
    "college_tbl = count_summ('college')\n",
    "tbl_all = pd.concat([under20_tbl, gender_tbl, college_tbl])\n",
    "\n",
    "# count the number of `age`\n",
    "age_tbl = (demo_new\n",
    "           .groupby('ohx')\n",
    "           .apply(lambda x: pd.Series({'mean': np.mean(x.age),\n",
    "                                       'sd': np.std(x.age)})))\n",
    "tbl_all.loc['age_mean',:] = ''\n",
    "tbl_all.iloc[6,0] = 'mean = {0:4.2f} (sd = {1:4.2f})'.format(age_tbl.iloc[0,0], \n",
    "                                                             age_tbl.iloc[0,1])\n",
    "tbl_all.iloc[6,1] = 'mean = {0:4.2f} (sd = {1:4.2f})'.format(age_tbl.iloc[1,0], \n",
    "                                                             age_tbl.iloc[1,1])\n",
    "p =  stats.ttest_ind(demo_new.loc[demo_new['ohx']=='complete', 'age'],\n",
    "                      demo_new.loc[demo_new['ohx']!='complete', 'age']).pvalue\n",
    "tbl_all.iloc[6,2] = (\"%.3g\" % p)\n",
    "\n",
    "# polish the table\n",
    "a1 = np.append(np.repeat(['under_20', 'gender', 'college'],2), ['age'])\n",
    "a2 = ['no', 'yes', 'male', 'female', 'no college/<20', 'some college/college graduate',\n",
    "      'age_mean']\n",
    "tbl_all.index = pd.MultiIndex.from_arrays([a1, a2], names=['index', 'category'])\n",
    "tbl_all"
   ]
  },
  {
   "cell_type": "code",
   "execution_count": null,
   "id": "f3bf2b97",
   "metadata": {},
   "outputs": [],
   "source": []
  }
 ],
 "metadata": {
  "kernelspec": {
   "display_name": "Python 3",
   "language": "python",
   "name": "python3"
  },
  "language_info": {
   "codemirror_mode": {
    "name": "ipython",
    "version": 3
   },
   "file_extension": ".py",
   "mimetype": "text/x-python",
   "name": "python",
   "nbconvert_exporter": "python",
   "pygments_lexer": "ipython3",
   "version": "3.8.8"
  }
 },
 "nbformat": 4,
 "nbformat_minor": 5
}
