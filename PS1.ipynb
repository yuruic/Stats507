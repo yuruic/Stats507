{
 "cells": [
  {
   "cell_type": "markdown",
   "id": "0b4d5c83",
   "metadata": {},
   "source": [
    "# STATS 507 - HW1\n",
    "*Chang Yurui*\n",
    "\n",
    "# Question 0 - Markdown warmup\n",
    "This is *question 0* for [<font color=red>problem set 1</font>](https://jbhender.github.io/Stats507/F21/ps/ps1.html) of [<font color = red>Stats 507</font>](https://jbhender.github.io/Stats507/F21/).\n",
    "\n",
    ">### Question 0 is about Markdown\n",
    "\n",
    "The next question is about the **Fibonacci sequence**, $F_n = F_{n-2} + F_{n-1}$. In part **a** we will define a Python function `fib_rec()`\n",
    "\n",
    "Below is a …\n",
    "\n",
    "## Level 3 Header\n",
    "Next, we can make a bulleted list:\n",
    "<ol style=\"list-style-type: disc;\">\n",
    "  <li>Item 1\n",
    "      <ol style=\"list-style-type: circle;\">\n",
    "          <li>detail 1</li>\n",
    "          <li>detail 2</li>\n",
    "      </ol>\n",
    "    </li>\n",
    "  <li>Item 2</li>\n",
    "</ol>\n",
    "\n",
    "Finally, we can make an enumerated list:\n",
    "<ol style=\"list-style-type: lower-alpha;\">\n",
    "  <li>Item 1</li>\n",
    "  <li>Item 2</li>\n",
    "  <li>Item 3</li>\n",
    "</ol>"
   ]
  },
  {
   "cell_type": "code",
   "execution_count": 1,
   "id": "8a1a71c9",
   "metadata": {},
   "outputs": [],
   "source": [
    "import pandas as pd\n",
    "import numpy as np\n",
    "import math\n",
    "import statistics\n",
    "import random\n",
    "from datetime import datetime\n",
    "from scipy import stats\n",
    "from IPython.core.display import display, HTML\n",
    "import time"
   ]
  },
  {
   "cell_type": "markdown",
   "id": "2b038082",
   "metadata": {},
   "source": [
    "# Question 1 - Fibonacci Sequence\n",
    "&nbsp;&nbsp;a. Write a recursive function `fib_rec()`\\\n",
    "$f_0 = 0$, $f_1 = 1$, and $f_n = f_{n-1} + f_{n-2},(n\\geq 2)$"
   ]
  },
  {
   "cell_type": "code",
   "execution_count": 2,
   "id": "f39f0922",
   "metadata": {},
   "outputs": [],
   "source": [
    "def fib_rec(n, f0 = 0, f1 = 1):\n",
    "    \"\"\"\n",
    "    A recursive function which returns the value of fn\n",
    "    \n",
    "    Parameters\n",
    "    ----------\n",
    "    n : int\n",
    "        The (n+1)-th number of the sequence.\n",
    "    f0 : int, optional\n",
    "        The value of f0. The default is 0.\n",
    "    f1 : int, optional\n",
    "        The value of f1. The default is 1.\n",
    "\n",
    "    Returns\n",
    "    -------\n",
    "    int\n",
    "        The value of fn.\n",
    "\n",
    "    \"\"\"\n",
    "    if n < 0:\n",
    "        print(\"ERROR\")\n",
    "    elif n == 0:\n",
    "        return f0\n",
    "    elif n == 1:\n",
    "        return f1\n",
    "    else:\n",
    "        x = fib_rec(n-1) + fib_rec(n-2)\n",
    "        return x"
   ]
  },
  {
   "cell_type": "code",
   "execution_count": 3,
   "id": "26f96bcf",
   "metadata": {},
   "outputs": [
    {
     "name": "stdout",
     "output_type": "stream",
     "text": [
      "f7 = 13\n",
      "f11 = 89\n",
      "f13 = 233\n"
     ]
    }
   ],
   "source": [
    "# to prove the validity of the above function\n",
    "x_list = [7,11,13]\n",
    "for x in x_list:\n",
    "    fn = fib_rec(x)\n",
    "    print('f%d = %d' % (x, fn))"
   ]
  },
  {
   "cell_type": "markdown",
   "id": "689fd8b7",
   "metadata": {},
   "source": [
    "&nbsp;&nbsp;b. Write a function `fib_for()` by using for loop"
   ]
  },
  {
   "cell_type": "code",
   "execution_count": 4,
   "id": "90927ac3",
   "metadata": {},
   "outputs": [],
   "source": [
    "def fib_for(n, f0 = 0, f1 = 1):\n",
    "    \"\"\"\n",
    "    A for-loop function which returns the value of fn\n",
    "\n",
    "    Parameters\n",
    "    ----------\n",
    "    n : int\n",
    "        The (n+1)-th number of the sequence.\n",
    "    f0 : int, optional\n",
    "        The value of f0. The default is 0.\n",
    "    f1 : int, optional\n",
    "        The value of f1. The default is 1.\n",
    "\n",
    "    Returns\n",
    "    -------\n",
    "    int\n",
    "        The value of fn.\n",
    "\n",
    "    \"\"\"\n",
    "    if n < 0:\n",
    "        print(\"ERROR\")\n",
    "    elif n <= 1 and n >= 0:\n",
    "        return n\n",
    "    else:\n",
    "        for i in range(n-1):\n",
    "            fn = f0 + f1\n",
    "            f0 = f1\n",
    "            f1 = fn\n",
    "        return fn"
   ]
  },
  {
   "cell_type": "code",
   "execution_count": 5,
   "id": "0aa62518",
   "metadata": {},
   "outputs": [
    {
     "name": "stdout",
     "output_type": "stream",
     "text": [
      "f7 = 13\n",
      "f11 = 89\n",
      "f13 = 233\n"
     ]
    }
   ],
   "source": [
    "x_list = [7,11,13]\n",
    "for x in x_list:\n",
    "    fn = fib_for(x)\n",
    "    print('f%d = %d' % (x, fn))"
   ]
  },
  {
   "cell_type": "markdown",
   "id": "306ff0d4",
   "metadata": {},
   "source": [
    "&nbsp;&nbsp;c. Write a function `fib_whl()` by using while loop"
   ]
  },
  {
   "cell_type": "code",
   "execution_count": 6,
   "id": "c9524d3b",
   "metadata": {},
   "outputs": [],
   "source": [
    "def fib_whl(n, f0 = 0, f1 = 1):\n",
    "    \"\"\"\n",
    "    A while-loop function which returns the value of fn\n",
    "\n",
    "    Parameters\n",
    "    ----------\n",
    "    n : int\n",
    "        The (n+1)-th number of the sequence.\n",
    "    f0 : int, optional\n",
    "        The value of f0. The default is 0.\n",
    "    f1 : int, optional\n",
    "        The value of f1. The default is 1.\n",
    "\n",
    "    Returns\n",
    "    -------\n",
    "    int\n",
    "        The value of fn.\n",
    "\n",
    "    \"\"\"\n",
    "    count = 1\n",
    "    if n < 0:\n",
    "        print(\"ERROR\")\n",
    "    elif n <= 1 and n > 0:\n",
    "        return n\n",
    "    else:\n",
    "        while count < n:\n",
    "            fn = f0 + f1\n",
    "            f0 = f1\n",
    "            f1 = fn\n",
    "            count += 1\n",
    "        return fn"
   ]
  },
  {
   "cell_type": "code",
   "execution_count": 7,
   "id": "0666cb9e",
   "metadata": {},
   "outputs": [
    {
     "name": "stdout",
     "output_type": "stream",
     "text": [
      "f7 = 13\n",
      "f11 = 89\n",
      "f13 = 233\n"
     ]
    }
   ],
   "source": [
    "x_list = [7,11,13]\n",
    "for x in x_list:\n",
    "    fn = fib_whl(x)\n",
    "    print('f%d = %d' % (x, fn))"
   ]
  },
  {
   "cell_type": "markdown",
   "id": "612a6d0d",
   "metadata": {},
   "source": [
    "&nbsp;&nbsp;d. Write a function `fib_rnd()` by using the rounding method\n",
    "$$\\phi = \\frac{1+\\sqrt{5}}{2}\\\\\n",
    "F_n = \\left[\\frac{\\phi^n}{\\sqrt{5}}\\right]$$"
   ]
  },
  {
   "cell_type": "code",
   "execution_count": 8,
   "id": "8e7ee1f8",
   "metadata": {},
   "outputs": [],
   "source": [
    "def fib_rnd(n):\n",
    "    \"\"\"\n",
    "    Using the round method to calculate the fn\n",
    "\n",
    "    Parameters\n",
    "    ----------\n",
    "    n : int\n",
    "        The (n+1)-th number of the sequence.\n",
    "\n",
    "    Returns\n",
    "    -------\n",
    "    fn : int\n",
    "        The value of fn.\n",
    "\n",
    "    \"\"\"\n",
    "    if n < 0:\n",
    "        print(\"ERROR\")\n",
    "    else:\n",
    "        phi = (1 + math.sqrt(5))/2\n",
    "        fn = round((phi**n)/math.sqrt(5))\n",
    "    return fn"
   ]
  },
  {
   "cell_type": "code",
   "execution_count": 9,
   "id": "47d5d97e",
   "metadata": {},
   "outputs": [
    {
     "name": "stdout",
     "output_type": "stream",
     "text": [
      "f7 = 13\n",
      "f11 = 89\n",
      "f13 = 233\n"
     ]
    }
   ],
   "source": [
    "x_list = [7,11,13]\n",
    "for x in x_list:\n",
    "    fn = fib_rnd(x)\n",
    "    print('f%d = %d' % (x, fn))"
   ]
  },
  {
   "cell_type": "markdown",
   "id": "e1a1f35e",
   "metadata": {},
   "source": [
    "&nbsp;&nbsp;e. Write a function `fib_flr()` by using the truncation method\n",
    "$$F_n = \\left\\lfloor\\frac{\\phi^n}{\\sqrt{5}}\\right\\rfloor$$"
   ]
  },
  {
   "cell_type": "code",
   "execution_count": 10,
   "id": "fcdca8d0",
   "metadata": {},
   "outputs": [],
   "source": [
    "def fib_flr(n):\n",
    "    \"\"\"\n",
    "    Using the truncate method to calculate the fn\n",
    "\n",
    "    Parameters\n",
    "    ----------\n",
    "    n : int\n",
    "        The (n+1)-th number of the sequence.\n",
    "\n",
    "    Returns\n",
    "    -------\n",
    "    fn : int\n",
    "        The value of fn.\n",
    "\n",
    "    \"\"\"\n",
    "    if n < 0:\n",
    "        print(\"ERROR\")\n",
    "    else:\n",
    "        phi = (1 + math.sqrt(5))/2\n",
    "        fn = math.floor((phi**n)/math.sqrt(5) + 1/2)\n",
    "    return fn"
   ]
  },
  {
   "cell_type": "code",
   "execution_count": 11,
   "id": "16594efa",
   "metadata": {},
   "outputs": [
    {
     "name": "stdout",
     "output_type": "stream",
     "text": [
      "f7 = 13\n",
      "f11 = 89\n",
      "f13 = 233\n"
     ]
    }
   ],
   "source": [
    "x_list = [7,11,13]\n",
    "for x in x_list:\n",
    "    fn = fib_flr(x)\n",
    "    print('f%d = %d' % (x, fn))"
   ]
  },
  {
   "cell_type": "markdown",
   "id": "d5237854",
   "metadata": {},
   "source": [
    "&nbsp;&nbsp;f. For a sequence of increasingly large values of `n` compare the median computation time of each of the functions above."
   ]
  },
  {
   "cell_type": "markdown",
   "id": "1bf41691",
   "metadata": {},
   "source": [
    "To compare the median time for calculating the $F_n$ by using different methods, I ran each function for 100 times and get the median of the time list respectively. The time is measured in microseconds."
   ]
  },
  {
   "cell_type": "code",
   "execution_count": 12,
   "id": "f1ccbb94",
   "metadata": {},
   "outputs": [],
   "source": [
    "# count the running time for the specified function\n",
    "def fib_time(fib_func,n):\n",
    "    \"\"\"\n",
    "    Calculation for the time for a function calculating fn\n",
    "\n",
    "    Parameters\n",
    "    ----------\n",
    "    fib_func : fun\n",
    "        Function for calculation fn.\n",
    "    n : int\n",
    "        The (n+1)-th number of the sequence.\n",
    "\n",
    "    Returns\n",
    "    -------\n",
    "    t : float\n",
    "        The time for calculating fn.\n",
    "\n",
    "    \"\"\"\n",
    "    a = time.perf_counter()\n",
    "    fib_func(n)\n",
    "    b = time.perf_counter()\n",
    "    t = (b - a)*(10**6)\n",
    "    return t"
   ]
  },
  {
   "cell_type": "code",
   "execution_count": 6,
   "id": "d3e78998",
   "metadata": {},
   "outputs": [
    {
     "ename": "TypeError",
     "evalue": "fib_for() missing 1 required positional argument: 'n'",
     "output_type": "error",
     "traceback": [
      "\u001b[0;31m---------------------------------------------------------------------------\u001b[0m",
      "\u001b[0;31mTypeError\u001b[0m                                 Traceback (most recent call last)",
      "\u001b[0;32m<ipython-input-6-285c9095d640>\u001b[0m in \u001b[0;36m<module>\u001b[0;34m\u001b[0m\n\u001b[0;32m----> 1\u001b[0;31m \u001b[0mt\u001b[0m \u001b[0;34m=\u001b[0m \u001b[0mtimeit\u001b[0m\u001b[0;34m.\u001b[0m\u001b[0mTimer\u001b[0m\u001b[0;34m(\u001b[0m\u001b[0;36m10\u001b[0m\u001b[0;34m,\u001b[0m\u001b[0mfib_for\u001b[0m\u001b[0;34m(\u001b[0m\u001b[0;34m)\u001b[0m\u001b[0;34m)\u001b[0m\u001b[0;34m\u001b[0m\u001b[0;34m\u001b[0m\u001b[0m\n\u001b[0m\u001b[1;32m      2\u001b[0m \u001b[0mt\u001b[0m\u001b[0;34m.\u001b[0m\u001b[0mrepeat\u001b[0m\u001b[0;34m(\u001b[0m\u001b[0;36m100\u001b[0m\u001b[0;34m)\u001b[0m\u001b[0;34m\u001b[0m\u001b[0;34m\u001b[0m\u001b[0m\n",
      "\u001b[0;31mTypeError\u001b[0m: fib_for() missing 1 required positional argument: 'n'"
     ]
    }
   ],
   "source": [
    "t = timeit.Timer(10,fib_for())\n",
    "t.repeat(100)"
   ]
  },
  {
   "cell_type": "code",
   "execution_count": 13,
   "id": "db62b6ba",
   "metadata": {},
   "outputs": [
    {
     "data": {
      "text/html": [
       "<table border=\"1\" class=\"dataframe\">\n",
       "  <thead>\n",
       "    <tr style=\"text-align: right;\">\n",
       "      <th></th>\n",
       "      <th>Recursion</th>\n",
       "      <th>For loop</th>\n",
       "      <th>While loop</th>\n",
       "      <th>Round</th>\n",
       "      <th>Truncate</th>\n",
       "    </tr>\n",
       "  </thead>\n",
       "  <tbody>\n",
       "    <tr>\n",
       "      <th>n=5</th>\n",
       "      <td>2.0945</td>\n",
       "      <td>0.4865</td>\n",
       "      <td>0.4280</td>\n",
       "      <td>0.4690</td>\n",
       "      <td>0.4820</td>\n",
       "    </tr>\n",
       "    <tr>\n",
       "      <th>n=10</th>\n",
       "      <td>24.1215</td>\n",
       "      <td>0.6375</td>\n",
       "      <td>0.7220</td>\n",
       "      <td>0.4740</td>\n",
       "      <td>0.4760</td>\n",
       "    </tr>\n",
       "    <tr>\n",
       "      <th>n=15</th>\n",
       "      <td>300.5355</td>\n",
       "      <td>0.8205</td>\n",
       "      <td>1.0090</td>\n",
       "      <td>0.4690</td>\n",
       "      <td>0.4775</td>\n",
       "    </tr>\n",
       "    <tr>\n",
       "      <th>n=20</th>\n",
       "      <td>3154.3435</td>\n",
       "      <td>1.0165</td>\n",
       "      <td>1.3805</td>\n",
       "      <td>0.5215</td>\n",
       "      <td>0.4810</td>\n",
       "    </tr>\n",
       "    <tr>\n",
       "      <th>n=25</th>\n",
       "      <td>32760.2445</td>\n",
       "      <td>1.2370</td>\n",
       "      <td>1.6935</td>\n",
       "      <td>0.5210</td>\n",
       "      <td>0.4805</td>\n",
       "    </tr>\n",
       "    <tr>\n",
       "      <th>n=30</th>\n",
       "      <td>375136.8425</td>\n",
       "      <td>1.4225</td>\n",
       "      <td>2.0055</td>\n",
       "      <td>0.5210</td>\n",
       "      <td>0.4780</td>\n",
       "    </tr>\n",
       "  </tbody>\n",
       "</table>"
      ],
      "text/plain": [
       "<IPython.core.display.HTML object>"
      ]
     },
     "metadata": {},
     "output_type": "display_data"
    }
   ],
   "source": [
    "a = {}\n",
    "keys = [\"Recursion\", \"For loop\", \"While loop\", \"Round\", \"Truncate\"]\n",
    "func_list = [fib_rec, fib_for, fib_whl, fib_rnd, fib_flr]\n",
    "\n",
    "n_seq = range(5,35,5)\n",
    "\n",
    "for i in range(len(keys)):\n",
    "    k = keys[i]\n",
    "    a[k] = []\n",
    "    for j in range(len(n_seq)):\n",
    "        b = []\n",
    "        for exp in range(30):\n",
    "            b.append(fib_time(func_list[i],n_seq[j]))\n",
    "        a[k].append(statistics.median(b))\n",
    "        # print('%s (n=%d): completed' % (k,n_seq[j]))\n",
    "\n",
    "df = pd.DataFrame(a)\n",
    "df.index = [('n='+str(x)) for x in n_seq]\n",
    "\n",
    "# produce nicely formatted table\n",
    "display(HTML(df.to_html(index=True)))"
   ]
  },
  {
   "cell_type": "markdown",
   "id": "46e55d1d",
   "metadata": {},
   "source": [
    "As n getting larger, the time for calculating the $F_n$ also increased. In particular, the recursion function started to become mucher lower when $n \\geq 25$, and it was also the lowest method compared with others. Moreover, the running time of round and truncate function did not have large differences when n is small. It seemed that these two approaches were more efficient than others."
   ]
  },
  {
   "cell_type": "markdown",
   "id": "e872b2f7",
   "metadata": {},
   "source": [
    "# Question 2 - Pascal’s Triangle\n",
    "&nbsp;&nbsp;a. Write a function to compute a specified row of Pascal’s triangle.\n",
    "For each row of the Pascal's triangle, the list of the digits is symmetric. To calculate the first half of the list, the recurrence relationship could be applied. Then, the last digits could obtained easily by converting the list."
   ]
  },
  {
   "cell_type": "code",
   "execution_count": 14,
   "id": "28d56ba5",
   "metadata": {},
   "outputs": [],
   "source": [
    "def psc_tr_row(n):\n",
    "    \"\"\"\n",
    "    The n-th row of the Pascal's Triangle\n",
    "\n",
    "    Parameters\n",
    "    ----------\n",
    "    n : int\n",
    "        n-th row.\n",
    "\n",
    "    Returns\n",
    "    -------\n",
    "    The n-th row of Pascal’s triangle.\n",
    "\n",
    "    \"\"\"\n",
    "    if n == 1:\n",
    "        return([1])\n",
    "    else:\n",
    "        a = [1]\n",
    "        k = math.floor(n/2)\n",
    "        for i in range(1,k):\n",
    "            a.append(a[i-1]*(n-i)/i)\n",
    "            \n",
    "        if n%2 == 0:\n",
    "            a = a + a[::-1]\n",
    "        else:\n",
    "            b = a[k-1]*(n-k)/k\n",
    "            a = a + [b] + a[::-1]\n",
    "        \n",
    "        a = list(map(int,a))\n",
    "        \n",
    "        return(a)"
   ]
  },
  {
   "cell_type": "code",
   "execution_count": 15,
   "id": "a3feda62",
   "metadata": {},
   "outputs": [
    {
     "data": {
      "text/plain": [
       "[1, 5, 10, 10, 5, 1]"
      ]
     },
     "execution_count": 15,
     "metadata": {},
     "output_type": "execute_result"
    }
   ],
   "source": [
    "psc_tr_row(6)"
   ]
  },
  {
   "cell_type": "markdown",
   "id": "7e3355d8",
   "metadata": {},
   "source": [
    "&nbsp;&nbsp;b. Write a function for printing the first `n` rows of Pascal’s triangle using the conventional spacing with the numbers in each row staggered relative to adjacent rows. "
   ]
  },
  {
   "cell_type": "code",
   "execution_count": 16,
   "id": "541919ab",
   "metadata": {},
   "outputs": [
    {
     "name": "stdout",
     "output_type": "stream",
     "text": [
      "                                   1 \n",
      "                                1     1 \n",
      "                             1     2     1 \n",
      "                          1     3     3     1 \n",
      "                       1     4     6     4     1 \n",
      "                    1     5    10    10     5     1 \n",
      "                 1     6    15    20    15     6     1 \n",
      "              1     7    21    35    35    21     7     1 \n",
      "           1     8    28    56    70    56    28     8     1 \n",
      "        1     9    36    84   126   126    84    36     9     1 \n"
     ]
    }
   ],
   "source": [
    "# adding adjacent entries from the previous row to compute subsequent rows\n",
    "def psc_tr(n):\n",
    "    \"\"\"\n",
    "    The first n-row of the Pascal's Triangle\n",
    "\n",
    "    Parameters\n",
    "    ----------\n",
    "    n : int\n",
    "        n rows of the triangle.\n",
    "\n",
    "    Returns\n",
    "    -------\n",
    "    None.\n",
    "\n",
    "    \"\"\"\n",
    "    a=[]\n",
    "    for i in range(n):\n",
    "        a.append([])\n",
    "        a[i].append(1)\n",
    "        for j in range(1,i):\n",
    "            a[i].append(a[i-1][j-1]+a[i-1][j])\n",
    "        if(n!=0):\n",
    "            a[i].append(1)\n",
    "    for i in range(n):\n",
    "        print(\"   \"*(n-i),end=\" \",sep=\" \")   \n",
    "        for j in range(0,i+1):\n",
    "            print('{0:5}'.format(a[i][j]),end=\" \",sep=\" \")\n",
    "        print()\n",
    "\n",
    "psc_tr(10)"
   ]
  },
  {
   "cell_type": "code",
   "execution_count": 17,
   "id": "ba0dbdd1",
   "metadata": {},
   "outputs": [
    {
     "name": "stdout",
     "output_type": "stream",
     "text": [
      "                                1 \n",
      "                             1     1 \n",
      "                          1     2     1 \n",
      "                       1     3     3     1 \n",
      "                    1     4     6     4     1 \n",
      "                 1     5    10    10     5     1 \n",
      "              1     6    15    20    15     6     1 \n",
      "           1     7    21    35    35    21     7     1 \n",
      "        1     8    28    56    70    56    28     8     1 \n",
      "     1     9    36    84   126   126    84    36     9     1 \n"
     ]
    }
   ],
   "source": [
    "# using the function in a to compute the first n row\n",
    "def psc_tr2(n):\n",
    "    \"\"\"\n",
    "    The first n-row of the Pascal's Triangle\n",
    "\n",
    "    Parameters\n",
    "    ----------\n",
    "    n : int\n",
    "        n rows of the triangle.\n",
    "\n",
    "    Returns\n",
    "    -------\n",
    "    None.\n",
    "\n",
    "    \"\"\"\n",
    "    for i in range(1,n+1):\n",
    "        fn = psc_tr_row(i)\n",
    "        print(\"   \"*(n-i),end=\" \",sep=\" \")\n",
    "        for j in range(len(fn)):\n",
    "            print('{0:5}'.format(fn[j]),end=\" \",sep=\" \")\n",
    "        print()\n",
    "\n",
    "psc_tr2(10)"
   ]
  },
  {
   "cell_type": "markdown",
   "id": "6203f5af",
   "metadata": {},
   "source": [
    "# Question 3 - Statistics 101 \n",
    "&nbsp;&nbsp;a. Write a function to return a point and interval estimate for the mean based on these statistics."
   ]
  },
  {
   "cell_type": "code",
   "execution_count": 18,
   "id": "99200592",
   "metadata": {},
   "outputs": [],
   "source": [
    "def estimate_mean(dat,level,form_string):\n",
    "    \"\"\"\n",
    "    Calculating the point and interval estimate for the mean\n",
    "\n",
    "    Parameters\n",
    "    ----------\n",
    "    dat : float\n",
    "        The data.\n",
    "    level : float\n",
    "        The confidence level.\n",
    "    form_string : str\n",
    "        The string controlling the dictionary.\n",
    "\n",
    "    Returns\n",
    "    -------\n",
    "    None.\n",
    "\n",
    "    \"\"\"\n",
    "    mean, std = np.mean(dat), stats.sem(dat)\n",
    "\n",
    "    n = len(dat)\n",
    "    z = stats.norm.ppf((1 + level)/2)\n",
    "    l = z * std\n",
    "    lwr, upr = mean - l, mean + l\n",
    "    \n",
    "    print(\"{theta_hat}[{XX}%CI:({theta_l},{theta_u})]\".format(theta_hat = mean, XX = int(level * 100), \n",
    "                                                              theta_l = lwr, theta_u = upr))\n",
    "    if form_string == None:\n",
    "        est_dict = {\"est\":mean,\n",
    "                    \"lwr\":lwr,\n",
    "                    \"upr\":upr,\n",
    "                    \"level\":level}\n",
    "        return(est_dict)"
   ]
  },
  {
   "cell_type": "code",
   "execution_count": 19,
   "id": "5dfe1c9a",
   "metadata": {},
   "outputs": [
    {
     "name": "stdout",
     "output_type": "stream",
     "text": [
      "0.0033460012423921306[95%CI:(-0.05781493844397584,0.0645069409287601)]\n"
     ]
    },
    {
     "data": {
      "text/plain": [
       "{'est': 0.0033460012423921306,\n",
       " 'lwr': -0.05781493844397584,\n",
       " 'upr': 0.0645069409287601,\n",
       " 'level': 0.95}"
      ]
     },
     "execution_count": 19,
     "metadata": {},
     "output_type": "execute_result"
    }
   ],
   "source": [
    "dat = np.random.normal(0,1,1000)\n",
    "estimate_mean(dat,0.95,None)"
   ]
  },
  {
   "cell_type": "markdown",
   "id": "5ed4167b",
   "metadata": {},
   "source": [
    "&nbsp;&nbsp;b. Write a function to return point and interval estimates based on several of these methods."
   ]
  },
  {
   "cell_type": "code",
   "execution_count": 20,
   "id": "10feb403",
   "metadata": {},
   "outputs": [],
   "source": [
    "def bio_confidence_interval(dat,method,level,form_string):\n",
    "    \"\"\"\n",
    "    Calculating the point and interval estiamte based different methods\n",
    "\n",
    "    Parameters\n",
    "    ----------\n",
    "    dat : float\n",
    "        data.\n",
    "    method : str\n",
    "        The method used.\n",
    "    level : float\n",
    "        Confidence interval.\n",
    "    form_string : str\n",
    "        The string controlling the dictionary\n",
    "\n",
    "    Returns\n",
    "    -------\n",
    "    The dictrionary of the results.\n",
    "\n",
    "    \"\"\"\n",
    "    x = sum(dat == 1)\n",
    "    n = len(dat)\n",
    "    p_hat = x/n\n",
    "    alpha = 1 - level\n",
    "    \n",
    "    global mean,lwr,upr\n",
    "    # method 1: normal approximation\n",
    "    if method == \"Binomial\" or method == \"1\":\n",
    "        mean = p_hat\n",
    "        std = math.sqrt(p_hat * (1 - p_hat) / n)\n",
    "        z = stats.norm.ppf((1 + level)/2)\n",
    "        l = z * std \n",
    "        lwr, upr = mean - l, mean + l\n",
    "        \n",
    "        if min(n * p_hat, n * (1 - p_hat)) <= 12:\n",
    "            print(\"Warning!\")\n",
    "    \n",
    "    # method 2: clopper-pearson\n",
    "    elif method == \"Clopper-Pearson\" or method == \"2\":\n",
    "        mean = p_hat\n",
    "        lwr, upr = stats.beta.ppf(alpha/2, x, n - x + 1), stats.beta.ppf(1 - alpha/2, x + 1, n - x)\n",
    "        \n",
    "    # method 3: jeffrey's\n",
    "    elif method == \"Jeffrey's\" or method == \"3\":\n",
    "        mean = p_hat\n",
    "        lwr = max(stats.beta.ppf(alpha/2, x + 0.5, n - x + 0.5), 0)\n",
    "        upr = min(stats.beta.ppf(1 - alpha/2, x + 0.5, n - x + 0.5), 1)\n",
    "        \n",
    "    # method4: agresti-coull:\n",
    "    elif method == \"Agresti-Coull\" or method == \"4\":\n",
    "        z = stats.norm.ppf((1 + level)/2)\n",
    "        n_tilde = n + z**2\n",
    "        p_tilde = (x + z**2/2)/n_tilde\n",
    "        std_tilde = math.sqrt(p_tilde * (1 - p_tilde) / n_tilde)\n",
    "        l_tilde = z * std_tilde \n",
    "        mean = p_tilde\n",
    "        lwr, upr = p_tilde - l_tilde, p_tilde + l_tilde\n",
    "    \n",
    "    # other methods\n",
    "    else:\n",
    "        mean = lwr = upr = \"NA\"\n",
    "    \n",
    "    print(\"{theta_hat}[{XX}%CI:({theta_l},{theta_u})]\".format(theta_hat = mean, XX = int(level * 100), \n",
    "                                                              theta_l = lwr, theta_u = upr))\n",
    "    if form_string == None:\n",
    "        est_dict = {\"est\":mean,\n",
    "                    \"lwr\":lwr,\n",
    "                    \"upr\":upr,\n",
    "                    \"level\":level}\n",
    "    \n",
    "    return(est_dict)"
   ]
  },
  {
   "cell_type": "code",
   "execution_count": 21,
   "id": "ea5c550c",
   "metadata": {},
   "outputs": [
    {
     "name": "stdout",
     "output_type": "stream",
     "text": [
      "0.269[95%CI:(0.24151581143561865,0.2964841885643814)]\n"
     ]
    }
   ],
   "source": [
    "random.seed(123)\n",
    "dat = np.random.binomial(n = 1, p = 0.27, size = 1000)\n",
    "dict = bio_confidence_interval(dat, \"1\", 0.95, None)"
   ]
  },
  {
   "cell_type": "markdown",
   "id": "e8d780d7",
   "metadata": {},
   "source": [
    "&nbsp;&nbsp;c. Construct a nicely formatted table comparing 90, 95, and 99% confidence intervals using each of the methods above (including part a) on this data."
   ]
  },
  {
   "cell_type": "code",
   "execution_count": 22,
   "id": "b8647ded",
   "metadata": {},
   "outputs": [],
   "source": [
    "# generate data: 42 ones, 48 zeros\n",
    "index = np.random.choice(np.arange(42 + 48), size = 42, replace = False)\n",
    "dat = np.zeros(90)\n",
    "dat[index]=1"
   ]
  },
  {
   "cell_type": "code",
   "execution_count": 23,
   "id": "dd67a802",
   "metadata": {},
   "outputs": [
    {
     "name": "stdout",
     "output_type": "stream",
     "text": [
      "0.4666666666666667[90%CI:(0.379683541341389,0.5536497919919443)]\n",
      "0.4666666666666667[95%CI:(0.36301988004271146,0.5703134532906219)]\n",
      "0.4666666666666667[99%CI:(0.33045169929454143,0.6028816340387919)]\n",
      "0.4666666666666667[90%CI:(0.3801681307683051,0.5531652025650283)]\n",
      "0.4666666666666667[95%CI:(0.3635973039596375,0.5697360293736958)]\n",
      "0.4666666666666667[99%CI:(0.3312105629560781,0.6021227703772553)]\n",
      "0.4666666666666667[90%CI:(0.37647051856845454,0.5585500116941438)]\n",
      "0.4666666666666667[95%CI:(0.36071567861279175,0.574872655255084)]\n",
      "0.4666666666666667[99%CI:(0.33056902381113423,0.6063850764217813)]\n",
      "0.4666666666666667[90%CI:(0.38182773607734916,0.5530668666023708)]\n",
      "0.4666666666666667[95%CI:(0.3660149306034983,0.5694242476723477)]\n",
      "0.4666666666666667[99%CI:(0.3357342966089931,0.6010266542571796)]\n",
      "0.4676394756103717[90%CI:(0.3824015426888378,0.5528774085319056)]\n",
      "0.4680311875188109[95%CI:(0.36707540522653587,0.5689869698110859)]\n",
      "0.4689553142237408[99%CI:(0.33819337553476714,0.5997172529127145)]\n"
     ]
    }
   ],
   "source": [
    "ci_list = [0.90, 0.95, 0.99]\n",
    "method_list = [ \"Normal\", \"Binomial\", \"Clopper-Pearson\", \"Jeffrey's\", \"Agresti-Coull\"]\n",
    "\n",
    "rs = {}\n",
    "est_dict = {}\n",
    "for x in method_list:\n",
    "    rs[x] = []\n",
    "    if x == \"Normal\":\n",
    "        for i in ci_list:\n",
    "            est_dict = estimate_mean(dat, i, None)\n",
    "            lwr, upr = round(est_dict[\"lwr\"],4), round(est_dict[\"upr\"],4)\n",
    "            rs[x].append([lwr, upr])\n",
    "    else:\n",
    "        for i in ci_list:\n",
    "            est_dict = bio_confidence_interval(dat, x, i, None)\n",
    "            lwr, upr = round(est_dict[\"lwr\"],4), round(est_dict[\"upr\"],4)\n",
    "            rs[x].append([lwr, upr])"
   ]
  },
  {
   "cell_type": "code",
   "execution_count": 24,
   "id": "9de1edd1",
   "metadata": {
    "scrolled": true
   },
   "outputs": [
    {
     "data": {
      "text/html": [
       "<table border=\"1\" class=\"dataframe\">\n",
       "  <thead>\n",
       "    <tr style=\"text-align: right;\">\n",
       "      <th></th>\n",
       "      <th>Normal</th>\n",
       "      <th>Binomial</th>\n",
       "      <th>Clopper-Pearson</th>\n",
       "      <th>Jeffrey's</th>\n",
       "      <th>Agresti-Coull</th>\n",
       "    </tr>\n",
       "  </thead>\n",
       "  <tbody>\n",
       "    <tr>\n",
       "      <th>CI = 0.9</th>\n",
       "      <td>[0.3797, 0.5536]</td>\n",
       "      <td>[0.3802, 0.5532]</td>\n",
       "      <td>[0.3765, 0.5586]</td>\n",
       "      <td>[0.3818, 0.5531]</td>\n",
       "      <td>[0.3824, 0.5529]</td>\n",
       "    </tr>\n",
       "    <tr>\n",
       "      <th>CI = 0.95</th>\n",
       "      <td>[0.363, 0.5703]</td>\n",
       "      <td>[0.3636, 0.5697]</td>\n",
       "      <td>[0.3607, 0.5749]</td>\n",
       "      <td>[0.366, 0.5694]</td>\n",
       "      <td>[0.3671, 0.569]</td>\n",
       "    </tr>\n",
       "    <tr>\n",
       "      <th>CI = 0.99</th>\n",
       "      <td>[0.3305, 0.6029]</td>\n",
       "      <td>[0.3312, 0.6021]</td>\n",
       "      <td>[0.3306, 0.6064]</td>\n",
       "      <td>[0.3357, 0.601]</td>\n",
       "      <td>[0.3382, 0.5997]</td>\n",
       "    </tr>\n",
       "  </tbody>\n",
       "</table>"
      ],
      "text/plain": [
       "<IPython.core.display.HTML object>"
      ]
     },
     "metadata": {},
     "output_type": "display_data"
    }
   ],
   "source": [
    "df = pd.DataFrame(rs)\n",
    "df.index = [('CI = ' + str(x)) for x in ci_list]\n",
    "display(HTML(df.to_html(index=True)))"
   ]
  },
  {
   "cell_type": "code",
   "execution_count": 25,
   "id": "0abee6d5",
   "metadata": {
    "scrolled": true
   },
   "outputs": [
    {
     "name": "stdout",
     "output_type": "stream",
     "text": [
      "{0.9: 'Agresti-Coull', 0.95: 'Agresti-Coull', 0.99: 'Agresti-Coull'}\n"
     ]
    }
   ],
   "source": [
    "# minimal width of the time interval for different confidence interval\n",
    "interval_min = {}\n",
    "for i in range(3):\n",
    "    a = []\n",
    "    for j in range(5):\n",
    "        a.append(df.iloc[i,j][1] - df.iloc[i,j][0])\n",
    "    interval_min[ci_list[i]] = method_list[np.argmin(a)]\n",
    "\n",
    "print(interval_min)"
   ]
  },
  {
   "cell_type": "markdown",
   "id": "4c3e65bf",
   "metadata": {},
   "source": [
    "For all the confidence interval, Agresti-Coull interval produces interval with the smallest width."
   ]
  }
 ],
 "metadata": {
  "jupytext": {
   "encoding": "# -*- coding: utf-8 -*-",
   "formats": "ipynb,py:light"
  },
  "kernelspec": {
   "display_name": "Python 3",
   "language": "python",
   "name": "python3"
  },
  "language_info": {
   "codemirror_mode": {
    "name": "ipython",
    "version": 3
   },
   "file_extension": ".py",
   "mimetype": "text/x-python",
   "name": "python",
   "nbconvert_exporter": "python",
   "pygments_lexer": "ipython3",
   "version": "3.8.8"
  }
 },
 "nbformat": 4,
 "nbformat_minor": 5
}
