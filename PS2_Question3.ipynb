{
 "cells": [
  {
   "cell_type": "markdown",
   "id": "be77e922",
   "metadata": {},
   "source": [
    "a. Use Python and Pandas to read and append the demographic datasets keeping only columns containing the unique ids (SEQN), age (RIDAGEYR), race and ethnicity (RIDRETH3), education (DMDEDUC2), and marital status (DMDMARTL), along with the following variables related to the survey weighting: (RIDSTATR, SDMVPSU, SDMVSTRA, WTMEC2YR, WTINT2YR). Add an additional column identifying to which cohort each case belongs. Rename the columns with literate variable names using all lower case and convert each column to an appropriate type. Finally, save the resulting data frame to a serialized “round-trip” format of your choosing (e.g. pickle, feather, or parquet)."
   ]
  },
  {
   "cell_type": "code",
   "execution_count": null,
   "id": "656f5f32",
   "metadata": {},
   "outputs": [],
   "source": [
    "index_list1 = ['SEQN', 'RIAGENDR', 'RIDAGEYR', 'RIDRETH3', 'DMDEDUC2', 'DMDMARTL',\n",
    "              'RIDSTATR', 'SDMVPSU', 'SDMVSTRA', 'WTMEC2YR', 'WTINT2YR']\n",
    "\n",
    "# read files and and a column\n",
    "path1 = r\"./demographic\"\n",
    "files1 = os.listdir(path1)\n",
    "dat1 = []\n",
    "for file in files1:\n",
    "    if file.endswith('.XPT'):\n",
    "        a = pd.read_sas(path1+'/'+file)\n",
    "        # select specified columns\n",
    "        a = a[index_list1]\n",
    "        # add the column identifying to which cohort each case belongs\n",
    "        a['YEAR'] = [file[6:10] for i in range(len(a))]\n",
    "        dat1.append(a)\n",
    "        \n",
    "df1 = pd.concat(dat1, ignore_index=True)\n",
    "\n",
    "# rename columns\n",
    "df1 = df1.rename(columns = {'SEQN': 'id', 'RIAGENDR': 'gender', 'RIDAGEYR':'age', 'RIDRETH3':'race', \n",
    "                            'DMDEDUC2':'education', 'DMDMARTL':'marital_status',\n",
    "                            'SDMVPSU':'psu', 'SDMVSTRA':'stratum'})\n",
    "df1.columns = df1.columns.str.lower()\n",
    "\n",
    "# object: id\n",
    "# int: age, psu, stratum\n",
    "# category: race, education, marital_status, ridstatr\n",
    "df1['id'] = df1['id'].astype(int).astype(object)\n",
    "\n",
    "l1_1 = ['age', 'psu', 'stratum']\n",
    "df1[l1_1] = df1[l1_1].astype(int)\n",
    "\n",
    "l1_2 = ['gender', 'race', 'education', 'marital_status', 'ridstatr']\n",
    "df1[l1_2] = df1[l1_2].fillna(-1).astype('Int8')\n",
    "for k in l1_2:\n",
    "    df1[k] = pd.Categorical(df1[k])\n",
    "    \n",
    "df1.to_pickle('./demographic.pkl')"
   ]
  },
  {
   "cell_type": "markdown",
   "id": "b5208d33",
   "metadata": {},
   "source": [
    "b. Repeat part a for the oral health and dentition data (OHXDEN_*.XPT) retaining the following variables: SEQN, OHDDESTS, tooth counts (OHXxxTC), and coronal cavities (OHXxxCTC)."
   ]
  },
  {
   "cell_type": "code",
   "execution_count": null,
   "id": "c6903419",
   "metadata": {},
   "outputs": [],
   "source": [
    "# columns\n",
    "dat = pd.read_sas('./ohxden/OHXDEN_G2011.XPT')\n",
    "index_list2 = ['SEQN','OHDDESTS']\n",
    "all_index = dat.columns\n",
    "for a in all_index:\n",
    "    if a[:3] == 'OHX' and a[-2:] == 'TC':\n",
    "        index_list2.append(a)    \n",
    "        \n",
    "# read files and add a column\n",
    "path2 = r\"./ohxden\"\n",
    "files2 = os.listdir(path2)\n",
    "dat2 = []\n",
    "for file in files2:\n",
    "    if file.endswith('.XPT'):\n",
    "        a = pd.read_sas(path2+'/'+file)\n",
    "        # select specified columns\n",
    "        index_list2 = ['SEQN','OHDDESTS']\n",
    "        all_index = dat.columns\n",
    "        for idx in all_index:\n",
    "            if idx[:3] == 'OHX' and idx[-2:] == 'TC':\n",
    "                index_list2.append(idx)\n",
    "        a = a[index_list2]\n",
    "        # add the column identifying to which cohort each case belongs\n",
    "        a['YEAR'] = [file[-8:-4] for i in range(len(a))]\n",
    "        dat2.append(a)\n",
    "        \n",
    "df2 = pd.concat(dat2, ignore_index=True)\n",
    "\n",
    "# rename columns\n",
    "df2 = df2.rename(columns = {'SEQN': 'id','OHDDESTS':'dentition'})\n",
    "df2.columns = df2.columns.str.lower()\n",
    "\n",
    "# object: id\n",
    "# category: dentition, ohxXXtc, ohxXXctc\n",
    "columnNames2 = df2.columns\n",
    "\n",
    "## seqn\n",
    "df2['id'] = df2['id'].astype(int).astype(object)\n",
    "\n",
    "## ohxXXctc\n",
    "l2_1 = [x for x in columnNames2 if x[-3:] == 'ctc']\n",
    "for idx in l2_1:\n",
    "    df2[idx] = df2[idx].str.decode('utf8', errors='strict').astype('category')\n",
    "\n",
    "## ohxXXtc & ohddests\n",
    "l2_2 = [x for x in columnNames2 if x[-2:]=='tc' and x[-3]!='c']\n",
    "l2_2.append('dentition')\n",
    "df2[l2_2] = df2[l2_2].fillna(-1).astype(int)\n",
    "for x in l2_2:\n",
    "    pd.Categorical(df2[x])\n",
    "    \n",
    "df2.to_pickle('./ohxden.pkl')"
   ]
  },
  {
   "cell_type": "markdown",
   "id": "dee768fb",
   "metadata": {},
   "source": [
    "c. In your notebook, report the number of cases there are in the two datasets above."
   ]
  },
  {
   "cell_type": "code",
   "execution_count": null,
   "id": "ebeb558a",
   "metadata": {},
   "outputs": [],
   "source": [
    "df1.describe()\n",
    "df1.shape\n",
    "df1.groupby('year').count()\n",
    "note1 = {}\n",
    "for k in l1_2:\n",
    "    note1[k] = pd.Series(df1[k].value_counts())\n",
    "    \n",
    "pd.DataFrame(note1)\n",
    "\n",
    "df2.shape\n",
    "df2.groupby('year').count()\n",
    "note21 = {}\n",
    "for k in l2_1:\n",
    "    note21[k] = pd.Series(df2[k].value_counts())\n",
    "    \n",
    "pd.DataFrame(note21)\n",
    "\n",
    "note22 = {}\n",
    "for k in l2_2:\n",
    "    note22[k] = pd.Series(df2[k].value_counts())\n",
    "    \n",
    "pd.DataFrame(note22)"
   ]
  },
  {
   "cell_type": "code",
   "execution_count": null,
   "id": "50018270",
   "metadata": {},
   "outputs": [],
   "source": []
  },
  {
   "cell_type": "code",
   "execution_count": null,
   "id": "e3cfc23a",
   "metadata": {},
   "outputs": [],
   "source": []
  }
 ],
 "metadata": {
  "kernelspec": {
   "display_name": "Python 3",
   "language": "python",
   "name": "python3"
  },
  "language_info": {
   "codemirror_mode": {
    "name": "ipython",
    "version": 3
   },
   "file_extension": ".py",
   "mimetype": "text/x-python",
   "name": "python",
   "nbconvert_exporter": "python",
   "pygments_lexer": "ipython3",
   "version": "3.8.8"
  }
 },
 "nbformat": 4,
 "nbformat_minor": 5
}
